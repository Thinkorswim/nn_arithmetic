{
 "cells": [
  {
   "cell_type": "code",
   "execution_count": 2,
   "metadata": {
    "collapsed": true
   },
   "outputs": [],
   "source": [
    "import matplotlib.pyplot as plt\n",
    "import numpy as np\n",
    "import logging\n",
    "import pickle\n",
    "from IPython import embed"
   ]
  },
  {
   "cell_type": "code",
   "execution_count": 3,
   "metadata": {
    "collapsed": true
   },
   "outputs": [],
   "source": [
    "def draw_figure(data, label, fig=None, ax=None):\n",
    "    # Plot the change in the validation set vs change in the training set\n",
    "    if not fig:\n",
    "        fig = plt.figure(figsize=(7, 4))\n",
    "    if not ax:\n",
    "        ax = fig.add_subplot(111)\n",
    "    for i in range(len(data)):\n",
    "        ax.plot(np.arange(1, len(data[i]) + 1), data[i], label=label)\n",
    "    ax.legend(loc='best')\n",
    "    ax.set_xlabel('Epoch number')\n",
    "    return fig, ax"
   ]
  },
  {
   "cell_type": "code",
   "execution_count": null,
   "metadata": {
    "collapsed": true
   },
   "outputs": [],
   "source": [
    "fig, ax = draw_figure([train_acc_30], 'acc_30')\n",
    "fig, ax = draw_figure([train_acc_60], 'acc_60', fig, ax)\n",
    "\n",
    "ax.grid('on')\n",
    "fig.tight_layout() \n",
    "plt.xticks(np.arange(1, 11))\n",
    "fig.savefig('training.pdf')\n",
    "plt.show()"
   ]
  },
  {
   "cell_type": "markdown",
   "metadata": {},
   "source": [
    "# Actiavtion functions"
   ]
  },
  {
   "cell_type": "code",
   "execution_count": 30,
   "metadata": {},
   "outputs": [
    {
     "data": {
      "text/plain": [
       "Text(0.5,1,'Linear')"
      ]
     },
     "execution_count": 30,
     "metadata": {},
     "output_type": "execute_result"
    }
   ],
   "source": [
    "fig = plt.figure(figsize=(4, 4))\n",
    "ax = fig.add_subplot(111)\n",
    "ax.plot(np.linspace(0, 15, num=10), np.linspace(0, 1, num=10), label=\"hi\", c='royalblue')\n",
    "plt.grid(True)\n",
    "plt.title(\"Linear\")"
   ]
  },
  {
   "cell_type": "code",
   "execution_count": 31,
   "metadata": {},
   "outputs": [
    {
     "data": {
      "image/png": "[encoded data removed]",
      "text/plain": [
       "<matplotlib.figure.Figure at 0x233a5e1dda0>"
      ]
     },
     "metadata": {},
     "output_type": "display_data"
    }
   ],
   "source": [
    "plt.show()"
   ]
  },
  {
   "cell_type": "code",
   "execution_count": null,
   "metadata": {
    "collapsed": true
   },
   "outputs": [],
   "source": []
  }
 ],
 "metadata": {
  "kernelspec": {
   "display_name": "Python 3",
   "language": "python",
   "name": "python3"
  },
  "language_info": {
   "codemirror_mode": {
    "name": "ipython",
    "version": 3
   },
   "file_extension": ".py",
   "mimetype": "text/x-python",
   "name": "python",
   "nbconvert_exporter": "python",
   "pygments_lexer": "ipython3",
   "version": "3.6.3"
  }
 },
 "nbformat": 4,
 "nbformat_minor": 2
}
