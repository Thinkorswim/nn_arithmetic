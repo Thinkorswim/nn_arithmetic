{
 "cells": [
  {
   "cell_type": "code",
   "execution_count": 27,
   "metadata": {},
   "outputs": [
    {
     "name": "stdout",
     "output_type": "stream",
     "text": [
      "11100\n",
      "1\n",
      "10110\n",
      "1\n",
      "00101\n",
      "0\n",
      "00100\n",
      "1\n",
      "00100\n",
      "1\n",
      "01100\n",
      "0\n",
      "10101\n",
      "1\n",
      "10111\n",
      "0\n",
      "11000\n",
      "0\n",
      "10111\n",
      "0\n"
     ]
    }
   ],
   "source": [
    "import random\n",
    "\n",
    "def getParity(bits):\n",
    "    odd = 0\n",
    "    for i,bit in enumerate(bits):\n",
    "        if bit == \"1\":\n",
    "            odd += 1\n",
    "            odd %= 2\n",
    "            \n",
    "    return odd\n",
    "\n",
    "def generator(sizeSample, bitLength):\n",
    "    for i in range(sizeSample):\n",
    "        intBit = random.getrandbits(bitLength)\n",
    "        bits = bin(intBit)[2:].zfill(bitLength)    \n",
    "        \n",
    "        print(bits)\n",
    "        print(getParity(bits))\n",
    "        \n",
    "        \n",
    "generator(10,5)"
   ]
  },
  {
   "cell_type": "code",
   "execution_count": null,
   "metadata": {
    "collapsed": true
   },
   "outputs": [],
   "source": []
  },
  {
   "cell_type": "code",
   "execution_count": null,
   "metadata": {
    "collapsed": true
   },
   "outputs": [],
   "source": []
  }
 ],
 "metadata": {
  "kernelspec": {
   "display_name": "Python 3",
   "language": "python",
   "name": "python3"
  },
  "language_info": {
   "codemirror_mode": {
    "name": "ipython",
    "version": 3
   },
   "file_extension": ".py",
   "mimetype": "text/x-python",
   "name": "python",
   "nbconvert_exporter": "python",
   "pygments_lexer": "ipython3",
   "version": "3.6.1"
  }
 },
 "nbformat": 4,
 "nbformat_minor": 2
}
