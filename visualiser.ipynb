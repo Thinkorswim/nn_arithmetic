{
 "cells": [
  {
   "cell_type": "code",
   "execution_count": 8,
   "metadata": {
    "collapsed": true
   },
   "outputs": [],
   "source": [
    "import matplotlib.pyplot as plt\n",
    "import numpy as np\n",
    "import logging\n",
    "import pickle\n",
    "from IPython import embed\n",
    "import math"
   ]
  },
  {
   "cell_type": "code",
   "execution_count": 3,
   "metadata": {
    "collapsed": true
   },
   "outputs": [],
   "source": [
    "def draw_figure(data, label, fig=None, ax=None):\n",
    "    # Plot the change in the validation set vs change in the training set\n",
    "    if not fig:\n",
    "        fig = plt.figure(figsize=(7, 4))\n",
    "    if not ax:\n",
    "        ax = fig.add_subplot(111)\n",
    "    for i in range(len(data)):\n",
    "        ax.plot(np.arange(1, len(data[i]) + 1), data[i], label=label)\n",
    "    ax.legend(loc='best')\n",
    "    ax.set_xlabel('Epoch number')\n",
    "    return fig, ax"
   ]
  },
  {
   "cell_type": "code",
   "execution_count": null,
   "metadata": {
    "collapsed": true
   },
   "outputs": [],
   "source": [
    "fig, ax = draw_figure([train_acc_30], 'acc_30')\n",
    "fig, ax = draw_figure([train_acc_60], 'acc_60', fig, ax)\n",
    "\n",
    "ax.grid('on')\n",
    "fig.tight_layout() \n",
    "plt.xticks(np.arange(1, 11))\n",
    "fig.savefig('training.pdf')\n",
    "plt.show()"
   ]
  },
  {
   "cell_type": "markdown",
   "metadata": {},
   "source": [
    "# Activation functions"
   ]
  },
  {
   "cell_type": "code",
   "execution_count": 62,
   "metadata": {},
   "outputs": [],
   "source": [
    "def tanh(x):\n",
    "    return (2 / (1 + math.exp(-2*x))) - 1\n",
    "\n",
    "def relu(x):\n",
    "    return max(0,x)\n",
    "\n",
    "def selu(x):\n",
    "    lamb = 1.0507\n",
    "    alpha = 1.67326\n",
    "    \n",
    "    if x>0:\n",
    "        return lamb*x\n",
    "    else:\n",
    "        return lamb*(alpha*(math.exp(x) - 1))\n",
    "    \n",
    "def softsign(x):\n",
    "    return x / (1 + abs(x))\n",
    "        "
   ]
  },
  {
   "cell_type": "code",
   "execution_count": 63,
   "metadata": {},
   "outputs": [
    {
     "data": {
      "text/plain": [
       "Text(0.5,1,'Softsign')"
      ]
     },
     "execution_count": 63,
     "metadata": {},
     "output_type": "execute_result"
    }
   ],
   "source": [
    "fig = plt.figure(figsize=(6, 4))\n",
    "ax = fig.add_subplot(111)\n",
    "\n",
    "x = []\n",
    "\n",
    "for i in np.linspace(-7, 7, num=100):\n",
    "    x.append(softsign(i))\n",
    "\n",
    "# print(x)\n",
    "\n",
    "ax.plot(np.linspace(-7, 7, num=100), x, c='royalblue')\n",
    "plt.grid(True)\n",
    "plt.title(\"Softsign\")"
   ]
  },
  {
   "cell_type": "code",
   "execution_count": 64,
   "metadata": {},
   "outputs": [
    {
     "data": {
      "image/png": "[encoded data removed]",
      "text/plain": [
       "<matplotlib.figure.Figure at 0x1f3575699e8>"
      ]
     },
     "metadata": {},
     "output_type": "display_data"
    }
   ],
   "source": [
    "fig.savefig('softsign.pdf')\n",
    "plt.show()"
   ]
  },
  {
   "cell_type": "code",
   "execution_count": null,
   "metadata": {
    "collapsed": true
   },
   "outputs": [],
   "source": []
  }
 ],
 "metadata": {
  "kernelspec": {
   "display_name": "Python 3",
   "language": "python",
   "name": "python3"
  },
  "language_info": {
   "codemirror_mode": {
    "name": "ipython",
    "version": 3
   },
   "file_extension": ".py",
   "mimetype": "text/x-python",
   "name": "python",
   "nbconvert_exporter": "python",
   "pygments_lexer": "ipython3",
   "version": "3.6.3"
  }
 },
 "nbformat": 4,
 "nbformat_minor": 2
}
